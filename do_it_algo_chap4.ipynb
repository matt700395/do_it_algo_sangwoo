{
  "nbformat": 4,
  "nbformat_minor": 0,
  "metadata": {
    "colab": {
      "name": "do_it_algo_chap4.ipynb",
      "provenance": [],
      "collapsed_sections": [],
      "authorship_tag": "ABX9TyNT4HM7cfj/WqJFjias9kMc",
      "include_colab_link": true
    },
    "kernelspec": {
      "name": "python3",
      "display_name": "Python 3"
    },
    "language_info": {
      "name": "python"
    }
  },
  "cells": [
    {
      "cell_type": "markdown",
      "metadata": {
        "id": "view-in-github",
        "colab_type": "text"
      },
      "source": [
        "<a href=\"https://colab.research.google.com/github/matt700395/do_it_algo_sangwoo/blob/main/do_it_algo_chap4.ipynb\" target=\"_parent\"><img src=\"https://colab.research.google.com/assets/colab-badge.svg\" alt=\"Open In Colab\"/></a>"
      ]
    },
    {
      "cell_type": "code",
      "metadata": {
        "id": "JM3EsjK8SV4W"
      },
      "source": [
        "# 실습 4-1\n",
        "# 고정길이 스택 클래스 FixedStack 구현하기\n",
        "\n",
        "from typing import Any\n",
        "\n",
        "class FixedStack:\n",
        "  \"\"\" 고정길이 스택 클래스 \"\"\"\n",
        "\n",
        "  class Empty(Exception):\n",
        "    \"\"\"비어있는 FixedStack에 팝 또는 피크할때 내보내는 예외처리\"\"\"\n",
        "    pass\n",
        "\n",
        "  class Full(Exception):\n",
        "    \"\"\"가득 찬 FixedStack에 푸시할때 내보내는 예외처리\"\"\"\n",
        "    pass\n",
        "\n",
        "  def __init__(self, capacity: int = 256) -> None:\n",
        "    \"\"\"스택 초기화\"\"\"\n",
        "    self.stk = [None]*capacity #스택본체\n",
        "    self.capacity = capacity #스택의 크기\n",
        "    self.ptr = 0 #스택포인터\n",
        "\n",
        "  def __len__(self)-> int:\n",
        "    \"\"\"스택에 쌓여있는 데이터 개수를 반환\"\"\"\n",
        "    return self.ptr\n",
        "  \n",
        "  def is_empty(self) -> bool:\n",
        "    \"\"\"스택이 비어있는지 판단\"\"\"\n",
        "    return self.ptr <= 0 #ptr이 0보다 작으면 참을 반환\n",
        "\n",
        "  def is_full(self)-> bool:\n",
        "    \"\"\"스택이 가득 차있는지 판단\"\"\"\n",
        "    return self.ptr >= self.capacity #현재 스택 포인터가 capa보다 크거나 같으면 참을 반환\n"
      ],
      "execution_count": 1,
      "outputs": []
    },
    {
      "cell_type": "code",
      "metadata": {
        "id": "k_xR4NfDW3jK"
      },
      "source": [
        ""
      ],
      "execution_count": null,
      "outputs": []
    }
  ]
}