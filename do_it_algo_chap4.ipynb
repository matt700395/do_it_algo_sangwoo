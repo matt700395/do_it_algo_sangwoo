{
  "nbformat": 4,
  "nbformat_minor": 0,
  "metadata": {
    "colab": {
      "name": "do_it_algo_chap4.ipynb",
      "provenance": [],
      "collapsed_sections": [],
      "authorship_tag": "ABX9TyNznSTighv0R6y0OXBfrnq4",
      "include_colab_link": true
    },
    "kernelspec": {
      "name": "python3",
      "display_name": "Python 3"
    },
    "language_info": {
      "name": "python"
    }
  },
  "cells": [
    {
      "cell_type": "markdown",
      "metadata": {
        "id": "view-in-github",
        "colab_type": "text"
      },
      "source": [
        "<a href=\"https://colab.research.google.com/github/matt700395/do_it_algo_sangwoo/blob/main/do_it_algo_chap4.ipynb\" target=\"_parent\"><img src=\"https://colab.research.google.com/assets/colab-badge.svg\" alt=\"Open In Colab\"/></a>"
      ]
    },
    {
      "cell_type": "code",
      "metadata": {
        "id": "JM3EsjK8SV4W"
      },
      "source": [
        "# 실습 4-1\n",
        "# 고정길이 스택 클래스 FixedStack 구현하기\n",
        "\n",
        "from typing import Any\n",
        "\n",
        "class FixedStack:\n",
        "  \"\"\" 고정길이 스택 클래스 \"\"\"\n",
        "\n",
        "  class Empty(Exception):\n",
        "    \"\"\"비어있는 FixedStack에 팝 또는 피크할때 내보내는 예외처리\"\"\"\n",
        "    pass\n",
        "\n",
        "  class Full(Exception):\n",
        "    \"\"\"가득 찬 FixedStack에 푸시할때 내보내는 예외처리\"\"\"\n",
        "    pass\n",
        "\n",
        "  def __init__(self, capacity: int = 256) -> None:\n",
        "    \"\"\"스택 초기화\"\"\"\n",
        "    self.stk = [None]*capacity #스택본체\n",
        "    self.capacity = capacity #스택의 크기\n",
        "    self.ptr = 0 #스택포인터\n",
        "\n",
        "  def __len__(self)-> int:\n",
        "    \"\"\"스택에 쌓여있는 데이터 개수를 반환\"\"\"\n",
        "    return self.ptr\n",
        "  \n",
        "  def is_empty(self) -> bool:\n",
        "    \"\"\"스택이 비어있는지 판단\"\"\"\n",
        "    return self.ptr <= 0 #ptr이 0보다 작으면 참을 반환\n",
        "\n",
        "  def is_full(self)-> bool:\n",
        "    \"\"\"스택이 가득 차있는지 판단\"\"\"\n",
        "    return self.ptr >= self.capacity #현재 스택 포인터가 capa보다 크거나 같으면 참을 반환\n"
      ],
      "execution_count": 1,
      "outputs": []
    },
    {
      "cell_type": "code",
      "metadata": {
        "colab": {
          "base_uri": "https://localhost:8080/",
          "height": 136
        },
        "id": "k_xR4NfDW3jK",
        "outputId": "927622b7-183d-4cc4-a4a0-529d87ea7e9a"
      },
      "source": [
        "#실급 4-1 B\n",
        "#위의 FixedStack 클래스에 이어지는 부분임\n",
        "\n",
        "  def push(self, value:Any) -> None:\n",
        "    \"\"\" 스택에 value를 푸시(데이터를 넣음) \"\"\"\n",
        "    if self.is_full():\n",
        "      raise FixedStack.Full\n",
        "    self.stk[self.ptr] = value\n",
        "    self.prt += 1\n",
        "\n",
        "  def pop(self) -> Any:\n",
        "    \"\"\" 스택에서 데이터를 팝(꼭대기 데이터를 꺼냄)\"\"\"\n",
        "    if self.is_empty(): #스택이 비어있는 경우\n",
        "      raise FixedStack.Empty #예외처리 발생\n",
        "    self.ptr -= 1\n",
        "    return self.stk[self.ptr]\n",
        "\n",
        "  def peek(self) -> Any:\n",
        "    \"\"\"스택에서 데이터를 피크(꼭대기 데이터를 들여다봄)\"\"\"\n",
        "    if self.is_empty():\n",
        "      raise FixedStack.Empty\n",
        "    return self.stk[self.ptr -1] #prt-1 위치가 가장 상단의 스택 포인터이고, 그 데이터가 얼마인지를 리턴\n",
        "\n",
        "  def clear(self)-> None:\n",
        "    \"\"\"스택을 비움(모든데이터를 삭제)\"\"\"\n",
        "    self.ptr = 0 #데이터를 삭제한다기보단 ptr을 0으로 되돌려서 이제부터 push하는 데이터들이 새로 쓰여지도록 하는것 같음\n",
        "    "
      ],
      "execution_count": 3,
      "outputs": [
        {
          "output_type": "error",
          "ename": "IndentationError",
          "evalue": "ignored",
          "traceback": [
            "\u001b[0;36m  File \u001b[0;32m\"<ipython-input-3-ced698f13055>\"\u001b[0;36m, line \u001b[0;32m4\u001b[0m\n\u001b[0;31m    def push(self, value:Any) -> None:\u001b[0m\n\u001b[0m    ^\u001b[0m\n\u001b[0;31mIndentationError\u001b[0m\u001b[0;31m:\u001b[0m unexpected indent\n"
          ]
        }
      ]
    },
    {
      "cell_type": "code",
      "metadata": {
        "id": "HAzssZ5qfX_Z"
      },
      "source": [
        ""
      ],
      "execution_count": null,
      "outputs": []
    }
  ]
}