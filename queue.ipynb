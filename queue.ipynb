{
  "nbformat": 4,
  "nbformat_minor": 0,
  "metadata": {
    "colab": {
      "name": "queue.ipynb",
      "provenance": [],
      "collapsed_sections": [],
      "authorship_tag": "ABX9TyOkT6v5JqKK/vjurjgAVYCg",
      "include_colab_link": true
    },
    "kernelspec": {
      "name": "python3",
      "display_name": "Python 3"
    },
    "language_info": {
      "name": "python"
    }
  },
  "cells": [
    {
      "cell_type": "markdown",
      "metadata": {
        "id": "view-in-github",
        "colab_type": "text"
      },
      "source": [
        "<a href=\"https://colab.research.google.com/github/matt700395/do_it_algo_sangwoo/blob/main/queue.ipynb\" target=\"_parent\"><img src=\"https://colab.research.google.com/assets/colab-badge.svg\" alt=\"Open In Colab\"/></a>"
      ]
    },
    {
      "cell_type": "code",
      "metadata": {
        "id": "Ul6lJdsAy2MW"
      },
      "source": [
        "import queue\n",
        "\n",
        "data_queue = queue.Queue()"
      ],
      "execution_count": 1,
      "outputs": []
    },
    {
      "cell_type": "code",
      "metadata": {
        "id": "BGRv_nTGzQ6l"
      },
      "source": [
        "#이부분 여러번 실행시키면, 큐에 데이터가 계속 쌓임\n",
        "data_queue.put(\"funcoding\")\n",
        "data_queue.put(1)"
      ],
      "execution_count": 2,
      "outputs": []
    },
    {
      "cell_type": "code",
      "metadata": {
        "colab": {
          "base_uri": "https://localhost:8080/"
        },
        "id": "bYWuTNmRzYD-",
        "outputId": "326d5c14-286c-4851-cc46-862e6ea6fef0"
      },
      "source": [
        "data_queue.qsize()"
      ],
      "execution_count": 3,
      "outputs": [
        {
          "output_type": "execute_result",
          "data": {
            "text/plain": [
              "2"
            ]
          },
          "metadata": {},
          "execution_count": 3
        }
      ]
    },
    {
      "cell_type": "code",
      "metadata": {
        "colab": {
          "base_uri": "https://localhost:8080/",
          "height": 35
        },
        "id": "598xT-Q7zfF4",
        "outputId": "a96933ed-6aab-4f66-d45c-64fc141cdd87"
      },
      "source": [
        "data_queue.get()"
      ],
      "execution_count": 4,
      "outputs": [
        {
          "output_type": "execute_result",
          "data": {
            "application/vnd.google.colaboratory.intrinsic+json": {
              "type": "string"
            },
            "text/plain": [
              "'funcoding'"
            ]
          },
          "metadata": {},
          "execution_count": 4
        }
      ]
    },
    {
      "cell_type": "code",
      "metadata": {
        "colab": {
          "base_uri": "https://localhost:8080/"
        },
        "id": "Hd2AwcjbzxVH",
        "outputId": "98c87369-82bf-4cc4-9093-b579390b9e84"
      },
      "source": [
        "data_queue.qsize()"
      ],
      "execution_count": 5,
      "outputs": [
        {
          "output_type": "execute_result",
          "data": {
            "text/plain": [
              "1"
            ]
          },
          "metadata": {},
          "execution_count": 5
        }
      ]
    },
    {
      "cell_type": "code",
      "metadata": {
        "colab": {
          "base_uri": "https://localhost:8080/"
        },
        "id": "hvvUoRV5zz2F",
        "outputId": "adaf3048-b86d-4c44-c604-6c72a2fe8fe4"
      },
      "source": [
        "data_queue.get()"
      ],
      "execution_count": 6,
      "outputs": [
        {
          "output_type": "execute_result",
          "data": {
            "text/plain": [
              "1"
            ]
          },
          "metadata": {},
          "execution_count": 6
        }
      ]
    },
    {
      "cell_type": "code",
      "metadata": {
        "colab": {
          "base_uri": "https://localhost:8080/"
        },
        "id": "yCcM5Hb4z2xr",
        "outputId": "abf4a51c-5175-438a-b50e-82e66fc2ea0b"
      },
      "source": [
        "data_queue.qsize()"
      ],
      "execution_count": 7,
      "outputs": [
        {
          "output_type": "execute_result",
          "data": {
            "text/plain": [
              "0"
            ]
          },
          "metadata": {},
          "execution_count": 7
        }
      ]
    },
    {
      "cell_type": "code",
      "metadata": {
        "id": "-sZ512w5z4FJ"
      },
      "source": [
        "#LIFO\n",
        "import queue\n",
        "data_queue = queue.LifoQueue()"
      ],
      "execution_count": 8,
      "outputs": []
    },
    {
      "cell_type": "code",
      "metadata": {
        "id": "uqpVW5k00azD"
      },
      "source": [
        "data_queue.put(\"funcoding\")\n",
        "data_queue.put(1)"
      ],
      "execution_count": 9,
      "outputs": []
    },
    {
      "cell_type": "code",
      "metadata": {
        "colab": {
          "base_uri": "https://localhost:8080/"
        },
        "id": "BnDwzKia0hcb",
        "outputId": "c194f5bf-e933-486d-9d5d-3949caddaaa2"
      },
      "source": [
        "data_queue.get() \n",
        "#마지막 넣은게 출력됨"
      ],
      "execution_count": 10,
      "outputs": [
        {
          "output_type": "execute_result",
          "data": {
            "text/plain": [
              "1"
            ]
          },
          "metadata": {},
          "execution_count": 10
        }
      ]
    },
    {
      "cell_type": "code",
      "metadata": {
        "colab": {
          "base_uri": "https://localhost:8080/",
          "height": 35
        },
        "id": "1S8vdKhq0jly",
        "outputId": "9c2e0a69-f393-44fe-e80b-2c2783e97801"
      },
      "source": [
        "data_queue.get() "
      ],
      "execution_count": 11,
      "outputs": [
        {
          "output_type": "execute_result",
          "data": {
            "application/vnd.google.colaboratory.intrinsic+json": {
              "type": "string"
            },
            "text/plain": [
              "'funcoding'"
            ]
          },
          "metadata": {},
          "execution_count": 11
        }
      ]
    },
    {
      "cell_type": "code",
      "metadata": {
        "id": "GJe1dmQL0qbW"
      },
      "source": [
        "#우선순위 큐\n",
        "import queue\n",
        "data_queue = queue.PriorityQueue()"
      ],
      "execution_count": 1,
      "outputs": []
    },
    {
      "cell_type": "code",
      "metadata": {
        "id": "nI8WXsS-1ASf"
      },
      "source": [
        "data_queue.put((10, \"korea\"))\n",
        "data_queue.put((5,1))\n",
        "data_queue.put((15,\"china\"))"
      ],
      "execution_count": 2,
      "outputs": []
    },
    {
      "cell_type": "code",
      "metadata": {
        "colab": {
          "base_uri": "https://localhost:8080/"
        },
        "id": "6JNwXdRY2ExL",
        "outputId": "035eb6d0-dbb5-4bb8-b3ef-50133e50c978"
      },
      "source": [
        "data_queue.qsize()"
      ],
      "execution_count": 3,
      "outputs": [
        {
          "output_type": "execute_result",
          "data": {
            "text/plain": [
              "3"
            ]
          },
          "metadata": {},
          "execution_count": 3
        }
      ]
    },
    {
      "cell_type": "code",
      "metadata": {
        "colab": {
          "base_uri": "https://localhost:8080/"
        },
        "id": "J8_46B9922A0",
        "outputId": "865870f1-a84b-4489-88af-d852a0a2a153"
      },
      "source": [
        "data_queue.get()"
      ],
      "execution_count": 4,
      "outputs": [
        {
          "output_type": "execute_result",
          "data": {
            "text/plain": [
              "(5, 1)"
            ]
          },
          "metadata": {},
          "execution_count": 4
        }
      ]
    },
    {
      "cell_type": "code",
      "metadata": {
        "colab": {
          "base_uri": "https://localhost:8080/"
        },
        "id": "Fl_x3dhC24wo",
        "outputId": "dc7f4a48-3452-4c6f-9bfb-5fd07145d3f2"
      },
      "source": [
        "data_queue.get()"
      ],
      "execution_count": 5,
      "outputs": [
        {
          "output_type": "execute_result",
          "data": {
            "text/plain": [
              "(10, 'korea')"
            ]
          },
          "metadata": {},
          "execution_count": 5
        }
      ]
    },
    {
      "cell_type": "code",
      "metadata": {
        "colab": {
          "base_uri": "https://localhost:8080/"
        },
        "id": "HIFbGEHb26Tc",
        "outputId": "b60109a6-afa1-4107-8128-7d1d0dc08e3e"
      },
      "source": [
        "data_queue.get()"
      ],
      "execution_count": 6,
      "outputs": [
        {
          "output_type": "execute_result",
          "data": {
            "text/plain": [
              "(15, 'china')"
            ]
          },
          "metadata": {},
          "execution_count": 6
        }
      ]
    },
    {
      "cell_type": "code",
      "metadata": {
        "id": "0Q2x_N8p27t-"
      },
      "source": [
        "#큐 직접 만들어 보기\n",
        "queue_list = []\n",
        "\n",
        "\n",
        "def enqueue(data):\n",
        "  queue_list.append(data)\n",
        "\n",
        "def dequeue():\n",
        "  data = queue_list[0]\n",
        "  del queue_list[0] #뺀 데이터는 삭제!\n",
        "  return data\n"
      ],
      "execution_count": 7,
      "outputs": []
    },
    {
      "cell_type": "code",
      "metadata": {
        "id": "fSqym1T53x1N"
      },
      "source": [
        "for index in range(10):\n",
        "  enqueue(index)"
      ],
      "execution_count": 8,
      "outputs": []
    },
    {
      "cell_type": "code",
      "metadata": {
        "colab": {
          "base_uri": "https://localhost:8080/"
        },
        "id": "QSWwBWFz34Qs",
        "outputId": "a996a8bd-b07a-4fef-ead6-0a78e742a30b"
      },
      "source": [
        "len(queue_list)"
      ],
      "execution_count": 10,
      "outputs": [
        {
          "output_type": "execute_result",
          "data": {
            "text/plain": [
              "10"
            ]
          },
          "metadata": {},
          "execution_count": 10
        }
      ]
    },
    {
      "cell_type": "code",
      "metadata": {
        "colab": {
          "base_uri": "https://localhost:8080/"
        },
        "id": "VV59Sf9-363A",
        "outputId": "5ad2400d-9cd8-4d84-a7fc-e13c80993295"
      },
      "source": [
        "dequeue()"
      ],
      "execution_count": 11,
      "outputs": [
        {
          "output_type": "execute_result",
          "data": {
            "text/plain": [
              "0"
            ]
          },
          "metadata": {},
          "execution_count": 11
        }
      ]
    },
    {
      "cell_type": "code",
      "metadata": {
        "colab": {
          "base_uri": "https://localhost:8080/"
        },
        "id": "Gqr7WzUb4GaI",
        "outputId": "14d02310-9e0d-435b-a1ab-239157cd0d5a"
      },
      "source": [
        "dequeue()"
      ],
      "execution_count": 12,
      "outputs": [
        {
          "output_type": "execute_result",
          "data": {
            "text/plain": [
              "1"
            ]
          },
          "metadata": {},
          "execution_count": 12
        }
      ]
    },
    {
      "cell_type": "code",
      "metadata": {
        "colab": {
          "base_uri": "https://localhost:8080/"
        },
        "id": "89zD7eIt4IPB",
        "outputId": "1bf7f79e-8d9e-4e31-a223-f736b6199122"
      },
      "source": [
        "dequeue()"
      ],
      "execution_count": 13,
      "outputs": [
        {
          "output_type": "execute_result",
          "data": {
            "text/plain": [
              "2"
            ]
          },
          "metadata": {},
          "execution_count": 13
        }
      ]
    },
    {
      "cell_type": "code",
      "metadata": {
        "id": "yS8fm6mN4JOE"
      },
      "source": [
        ""
      ],
      "execution_count": null,
      "outputs": []
    }
  ]
}