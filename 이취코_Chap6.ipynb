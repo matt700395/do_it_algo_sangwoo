{
  "nbformat": 4,
  "nbformat_minor": 0,
  "metadata": {
    "colab": {
      "name": "이취코 Chap6.ipynb",
      "provenance": [],
      "collapsed_sections": [],
      "authorship_tag": "ABX9TyMIijdzvrVCmH4Xty6zyz2x",
      "include_colab_link": true
    },
    "kernelspec": {
      "name": "python3",
      "display_name": "Python 3"
    },
    "language_info": {
      "name": "python"
    }
  },
  "cells": [
    {
      "cell_type": "markdown",
      "metadata": {
        "id": "view-in-github",
        "colab_type": "text"
      },
      "source": [
        "<a href=\"https://colab.research.google.com/github/matt700395/do_it_algo_sangwoo/blob/main/%EC%9D%B4%EC%B7%A8%EC%BD%94_Chap6.ipynb\" target=\"_parent\"><img src=\"https://colab.research.google.com/assets/colab-badge.svg\" alt=\"Open In Colab\"/></a>"
      ]
    },
    {
      "cell_type": "code",
      "metadata": {
        "colab": {
          "base_uri": "https://localhost:8080/"
        },
        "id": "28z2eBfYkLjR",
        "outputId": "971ee09d-9d6d-46ef-814a-663a5a344704"
      },
      "source": [
        "#chap6 정렬 2번 위에서 아래로\n",
        "\n",
        "n = int(input())\n",
        "x = []\n",
        "for i in range(0,n):\n",
        "  temp = int(input())\n",
        "  x.append(temp)\n",
        "\n",
        "x.sort()\n",
        "x.reverse()\n",
        "print(x)"
      ],
      "execution_count": null,
      "outputs": [
        {
          "output_type": "stream",
          "text": [
            "3\n",
            "15\n",
            "27\n",
            "12\n",
            "[27, 15, 12]\n"
          ],
          "name": "stdout"
        }
      ]
    },
    {
      "cell_type": "markdown",
      "metadata": {
        "id": "wDldjcOvlvUV"
      },
      "source": [
        "2번 위에서 아래로\n",
        "\n",
        "이 문제는 input이 500개 한정이기 때문에 어떤 정렬 알고리즘을 써도 문제가 없다.\n",
        "여기서는 간결하게 파이썬 기본 정렬 라이브러리를 사용해보자"
      ]
    },
    {
      "cell_type": "code",
      "metadata": {
        "id": "XcAQf6wckvyb",
        "colab": {
          "base_uri": "https://localhost:8080/"
        },
        "outputId": "18ae1f0d-d2d0-4950-98ac-be578db56b6e"
      },
      "source": [
        "#chap6 정렬 2번 위에서 아래로\n",
        "#책 정답\n",
        "n = int(input())\n",
        "array = []\n",
        "\n",
        "for i in range(n):\n",
        "  array.append(int(input()))\n",
        "\n",
        "array = sorted(array, reverse=True)\n",
        "\n",
        "for i in array:\n",
        "  print(i, end='') #이거 캐치하면 좋을듯!\n",
        "\n"
      ],
      "execution_count": null,
      "outputs": [
        {
          "output_type": "stream",
          "text": [
            "3\n",
            "15\n",
            "27\n",
            "12\n",
            "271512"
          ],
          "name": "stdout"
        }
      ]
    },
    {
      "cell_type": "code",
      "metadata": {
        "colab": {
          "base_uri": "https://localhost:8080/"
        },
        "id": "kZjKOhPpmwOn",
        "outputId": "e5a65e1f-b48d-40af-a517-c9b788f253d5"
      },
      "source": [
        "for i in array:\n",
        "  print(i) #이거 캐치하면 좋을듯!"
      ],
      "execution_count": null,
      "outputs": [
        {
          "output_type": "stream",
          "text": [
            "27\n",
            "15\n",
            "12\n"
          ],
          "name": "stdout"
        }
      ]
    },
    {
      "cell_type": "markdown",
      "metadata": {
        "id": "JpurqE48nn8G"
      },
      "source": [
        "3번 성적이 낮은 순서로 학생 출력하기"
      ]
    },
    {
      "cell_type": "code",
      "metadata": {
        "id": "j0IVBp-GpAeM"
      },
      "source": [
        "#3번 성적이 낮은 순서로 학생 출력하기\n",
        "\n",
        "n = int(input())\n",
        "student_dic = {}\n",
        "student_list = []\n",
        "\n",
        "#for i in range(n):\n",
        "#빠른 학습을 위해 정답 보겠음"
      ],
      "execution_count": null,
      "outputs": []
    },
    {
      "cell_type": "markdown",
      "metadata": {
        "id": "Mj08tuk4rR9V"
      },
      "source": [
        "이 문제에서는 학생의 정보가 최대 100,000개까지 입력될 수 있으므로 최악의 경우 O(NlonN)을 보장하는 알고리즘을 이용하거나 O(N)을 보장하는 계수정렬을 이용하면 됨\n",
        "\n",
        "이름만 출력하면 되므로 (점수, 이름)으로 묶은 뒤 점수를 기준으로 정렬하면됨\n",
        "\n",
        "이때도 기본 정렬 라이브러리가 효과적임"
      ]
    },
    {
      "cell_type": "code",
      "metadata": {
        "colab": {
          "base_uri": "https://localhost:8080/"
        },
        "id": "YuiHmXH6rr2W",
        "outputId": "e1266044-9e2e-45d7-a5f6-0c7123bae6ae"
      },
      "source": [
        "#3번 책 정답\n",
        "n=int(input())\n",
        "\n",
        "array=[]\n",
        "for i in range(n):\n",
        "  input_data = input().split()#split으로 공백기준으로 이름과 점수를 나워서 list로 받음\n",
        "  array.append((input_data[0], int(input_data[1]))) #이름과 점수 형변환후 다시 튜플로 다시 저장 -> 딕셔너리로 왜 안할까?\n",
        "\n",
        "array = sorted(array, key=lambda student: student[1]) #여기서 sorted의 옵션을 잘 살펴보고 가자\n",
        "\n",
        "for student in array: \n",
        "  print(student[0], end = '')"
      ],
      "execution_count": null,
      "outputs": [
        {
          "output_type": "stream",
          "text": [
            "2\n",
            "홍길동 95\n",
            "하상우 100\n",
            "홍길동하상우"
          ],
          "name": "stdout"
        }
      ]
    },
    {
      "cell_type": "markdown",
      "metadata": {
        "id": "eTKfwYYpsYPe"
      },
      "source": [
        "4. 두 배열의 원소 교체"
      ]
    },
    {
      "cell_type": "code",
      "metadata": {
        "id": "_9ugE_jk7tjj"
      },
      "source": [
        "#배열 A의 원소합이 최대가 되도록 하는것\n",
        "\n"
      ],
      "execution_count": null,
      "outputs": []
    }
  ]
}